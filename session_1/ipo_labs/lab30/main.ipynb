{
 "cells": [
  {
   "cell_type": "code",
   "execution_count": null,
   "metadata": {},
   "outputs": [],
   "source": [
    "%matplotlib inline\n",
    "import pandas as pd\n",
    "import matplotlib.pyplot as plt\n",
    "\n",
    "plt.style.use('ggplot')\n",
    "plt.rcParams['figure.figsize'] = (15, 5)\n",
    "\n",
    "repo_path = 'C:/Users/engin/Documents/GitHub/MyCollegeLabs'\n",
    "\n",
    "fixed_df = pd.read_csv(f'{repo_path}/ipo_labs/lab30/bikes.csv',\n",
    "                       sep=';', encoding='latin1',\n",
    "                       parse_dates=['Date'], dayfirst=True,\n",
    "                       index_col='Date')\n",
    "fixed_df['Berri 1'].plot()\n",
    "fixed_df.plot(figsize=(15, 10))"
   ]
  },
  {
   "cell_type": "code",
   "execution_count": null,
   "metadata": {},
   "outputs": [],
   "source": [
    "plt.rcParams['figure.figsize'] = (10, 5)\n",
    "complaints = pd.read_csv(f'{repo_path}/ipo_labs/lab30/311-service-requests.csv')\n",
    "complaint_counts = complaints['Complaint Type'].value_counts()\n",
    "complaint_counts[:10].plot(kind='bar')"
   ]
  }
 ],
 "metadata": {
  "interpreter": {
   "hash": "0b3a3d7f6b3d53496cd2827fb0e8858561a21c918cf43bd48b42f5050f0c77a0"
  },
  "kernelspec": {
   "display_name": "Python 3.10.4 64-bit",
   "language": "python",
   "name": "python3"
  },
  "language_info": {
   "codemirror_mode": {
    "name": "ipython",
    "version": 3
   },
   "file_extension": ".py",
   "mimetype": "text/x-python",
   "name": "python",
   "nbconvert_exporter": "python",
   "pygments_lexer": "ipython3",
   "version": "3.10.4"
  },
  "orig_nbformat": 4
 },
 "nbformat": 4,
 "nbformat_minor": 2
}
